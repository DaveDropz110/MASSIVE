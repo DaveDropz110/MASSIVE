{
 "cells": [
  {
   "cell_type": "code",
   "execution_count": 1,
   "id": "6240e79d",
   "metadata": {},
   "outputs": [
    {
     "name": "stdout",
     "output_type": "stream",
     "text": [
      "XLSX files separated and cleaned into individual language files.\n"
     ]
    }
   ],
   "source": [
    "import os\n",
    "import pandas as pd\n",
    "from openpyxl import load_workbook\n",
    "\n",
    "# Specify the directory containing your XLSX files\n",
    "xlsx_directory = r\"C:\\Users\\m.odero\\Documents\\3.2\\Computer graphics\\data json\"\n",
    "\n",
    "# Function to extract language code from filename\n",
    "def extract_language_code(filename):\n",
    "    parts = filename.split('-')\n",
    "    if len(parts) >= 2:\n",
    "        return parts[0]\n",
    "    else:\n",
    "        return None\n",
    "\n",
    "# Get a list of XLSX file names in the directory\n",
    "xlsx_files = [filename for filename in os.listdir(xlsx_directory) if filename.endswith(\".xlsx\")]\n",
    "\n",
    "# Process each XLSX file\n",
    "for xlsx_file in xlsx_files:\n",
    "    language_code = extract_language_code(xlsx_file)\n",
    "    if language_code:\n",
    "        # Load the XLSX file into a DataFrame\n",
    "        df = pd.read_excel(os.path.join(xlsx_directory, xlsx_file))\n",
    "        \n",
    "        # Group the DataFrame by language code\n",
    "        grouped = df.groupby(language_code)\n",
    "        \n",
    "        # Create separate XLSX files for each language\n",
    "        for language, group_df in grouped:\n",
    "            output_filename = os.path.join(xlsx_directory, f\"{language}-{xlsx_file}\")\n",
    "            \n",
    "            # Create a new Excel writer object\n",
    "            writer = pd.ExcelWriter(output_filename, engine='openpyxl')\n",
    "            \n",
    "            # Try to open an existing workbook\n",
    "            try:\n",
    "                writer.book = load_workbook(output_filename)\n",
    "                \n",
    "                # Copy the existing sheets\n",
    "                writer.sheets = {ws.title: ws for ws in writer.book.worksheets}\n",
    "                \n",
    "            except FileNotFoundError:\n",
    "                # Workbook does not exist, create a new one\n",
    "                pass\n",
    "            \n",
    "            # Write the DataFrame to the Excel sheet\n",
    "            group_df.to_excel(writer, index=False, sheet_name=language, startrow=1, header=False)\n",
    "            \n",
    "            # Access the XLSXWriter workbook and worksheet objects\n",
    "            workbook = writer.book\n",
    "            worksheet = writer.sheets[language]\n",
    "            \n",
    "            # Get the max row count in the existing sheets\n",
    "            max_row = len(worksheet['A']) + 1\n",
    "            \n",
    "            # Add a header and format the Excel sheet\n",
    "            for column, value in enumerate(group_df.columns, 1):\n",
    "                cell = worksheet.cell(row=max_row, column=column, value=value)\n",
    "                cell.font = cell.font.copy(bold=True)\n",
    "            \n",
    "            # Save the new XLSX file\n",
    "            writer.save()\n",
    "\n",
    "print(\"XLSX files separated and cleaned into individual language files.\")\n"
   ]
  },
  {
   "cell_type": "code",
   "execution_count": null,
   "id": "e14d5502",
   "metadata": {},
   "outputs": [],
   "source": []
  }
 ],
 "metadata": {
  "kernelspec": {
   "display_name": "Python 3 (ipykernel)",
   "language": "python",
   "name": "python3"
  },
  "language_info": {
   "codemirror_mode": {
    "name": "ipython",
    "version": 3
   },
   "file_extension": ".py",
   "mimetype": "text/x-python",
   "name": "python",
   "nbconvert_exporter": "python",
   "pygments_lexer": "ipython3",
   "version": "3.10.13"
  }
 },
 "nbformat": 4,
 "nbformat_minor": 5
}
